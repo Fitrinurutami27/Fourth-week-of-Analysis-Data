{
 "cells": [
  {
   "cell_type": "code",
   "execution_count": 1,
   "id": "f01358d5",
   "metadata": {},
   "outputs": [],
   "source": [
    "import pandas as pd\n",
    "import seaborn as sns\n",
    "import matplotlib.pyplot as plt"
   ]
  },
  {
   "cell_type": "code",
   "execution_count": 2,
   "id": "df46a16b",
   "metadata": {},
   "outputs": [],
   "source": [
    "df = pd.read_csv(\"DLDS_231106072258.csv\")"
   ]
  },
  {
   "cell_type": "code",
   "execution_count": 3,
   "id": "1b849633",
   "metadata": {},
   "outputs": [
    {
     "data": {
      "text/html": [
       "<div>\n",
       "<style scoped>\n",
       "    .dataframe tbody tr th:only-of-type {\n",
       "        vertical-align: middle;\n",
       "    }\n",
       "\n",
       "    .dataframe tbody tr th {\n",
       "        vertical-align: top;\n",
       "    }\n",
       "\n",
       "    .dataframe thead th {\n",
       "        text-align: right;\n",
       "    }\n",
       "</style>\n",
       "<table border=\"1\" class=\"dataframe\">\n",
       "  <thead>\n",
       "    <tr style=\"text-align: right;\">\n",
       "      <th></th>\n",
       "      <th>no</th>\n",
       "      <th>kode_kabupaten</th>\n",
       "      <th>nama_kabupaten</th>\n",
       "      <th>tingkat_pendidikan</th>\n",
       "      <th>januari</th>\n",
       "      <th>februari</th>\n",
       "      <th>maret</th>\n",
       "      <th>april</th>\n",
       "      <th>mei</th>\n",
       "      <th>juni</th>\n",
       "      <th>juli</th>\n",
       "      <th>agustus</th>\n",
       "      <th>september</th>\n",
       "      <th>oktober</th>\n",
       "      <th>november</th>\n",
       "      <th>desember</th>\n",
       "      <th>satuan</th>\n",
       "      <th>tahun</th>\n",
       "    </tr>\n",
       "  </thead>\n",
       "  <tbody>\n",
       "    <tr>\n",
       "      <th>0</th>\n",
       "      <td>1</td>\n",
       "      <td>3215</td>\n",
       "      <td>KARAWANG</td>\n",
       "      <td>TAMAT SD</td>\n",
       "      <td>160</td>\n",
       "      <td>173</td>\n",
       "      <td>141</td>\n",
       "      <td>0</td>\n",
       "      <td>5</td>\n",
       "      <td>0</td>\n",
       "      <td>32</td>\n",
       "      <td>14</td>\n",
       "      <td>15</td>\n",
       "      <td>28</td>\n",
       "      <td>34</td>\n",
       "      <td>36</td>\n",
       "      <td>ORANG</td>\n",
       "      <td>2020</td>\n",
       "    </tr>\n",
       "    <tr>\n",
       "      <th>1</th>\n",
       "      <td>2</td>\n",
       "      <td>3215</td>\n",
       "      <td>KARAWANG</td>\n",
       "      <td>SMP</td>\n",
       "      <td>232</td>\n",
       "      <td>251</td>\n",
       "      <td>189</td>\n",
       "      <td>0</td>\n",
       "      <td>15</td>\n",
       "      <td>98</td>\n",
       "      <td>95</td>\n",
       "      <td>65</td>\n",
       "      <td>169</td>\n",
       "      <td>106</td>\n",
       "      <td>104</td>\n",
       "      <td>136</td>\n",
       "      <td>ORANG</td>\n",
       "      <td>2020</td>\n",
       "    </tr>\n",
       "    <tr>\n",
       "      <th>2</th>\n",
       "      <td>3</td>\n",
       "      <td>3215</td>\n",
       "      <td>KARAWANG</td>\n",
       "      <td>SMA</td>\n",
       "      <td>3,231</td>\n",
       "      <td>1,422</td>\n",
       "      <td>1,889</td>\n",
       "      <td>0</td>\n",
       "      <td>320</td>\n",
       "      <td>3,899</td>\n",
       "      <td>1,905</td>\n",
       "      <td>2,325</td>\n",
       "      <td>11,552</td>\n",
       "      <td>4,710</td>\n",
       "      <td>4,016</td>\n",
       "      <td>2,782</td>\n",
       "      <td>ORANG</td>\n",
       "      <td>2020</td>\n",
       "    </tr>\n",
       "    <tr>\n",
       "      <th>3</th>\n",
       "      <td>4</td>\n",
       "      <td>3215</td>\n",
       "      <td>KARAWANG</td>\n",
       "      <td>DIPLOMA</td>\n",
       "      <td>55</td>\n",
       "      <td>2</td>\n",
       "      <td>0</td>\n",
       "      <td>0</td>\n",
       "      <td>0</td>\n",
       "      <td>0</td>\n",
       "      <td>0</td>\n",
       "      <td>0</td>\n",
       "      <td>212</td>\n",
       "      <td>121</td>\n",
       "      <td>122</td>\n",
       "      <td>75</td>\n",
       "      <td>ORANG</td>\n",
       "      <td>2020</td>\n",
       "    </tr>\n",
       "    <tr>\n",
       "      <th>4</th>\n",
       "      <td>5</td>\n",
       "      <td>3215</td>\n",
       "      <td>KARAWANG</td>\n",
       "      <td>SARJANA</td>\n",
       "      <td>22</td>\n",
       "      <td>1</td>\n",
       "      <td>0</td>\n",
       "      <td>0</td>\n",
       "      <td>3</td>\n",
       "      <td>0</td>\n",
       "      <td>0</td>\n",
       "      <td>0</td>\n",
       "      <td>545</td>\n",
       "      <td>363</td>\n",
       "      <td>277</td>\n",
       "      <td>178</td>\n",
       "      <td>ORANG</td>\n",
       "      <td>2020</td>\n",
       "    </tr>\n",
       "  </tbody>\n",
       "</table>\n",
       "</div>"
      ],
      "text/plain": [
       "   no  kode_kabupaten nama_kabupaten tingkat_pendidikan januari februari  \\\n",
       "0   1            3215       KARAWANG           TAMAT SD     160      173   \n",
       "1   2            3215       KARAWANG                SMP     232      251   \n",
       "2   3            3215       KARAWANG                SMA   3,231    1,422   \n",
       "3   4            3215       KARAWANG            DIPLOMA      55        2   \n",
       "4   5            3215       KARAWANG            SARJANA      22        1   \n",
       "\n",
       "   maret  april  mei   juni   juli agustus september oktober november  \\\n",
       "0    141      0    5      0     32      14        15      28       34   \n",
       "1    189      0   15     98     95      65       169     106      104   \n",
       "2  1,889      0  320  3,899  1,905   2,325    11,552   4,710    4,016   \n",
       "3      0      0    0      0      0       0       212     121      122   \n",
       "4      0      0    3      0      0       0       545     363      277   \n",
       "\n",
       "  desember satuan  tahun  \n",
       "0       36  ORANG   2020  \n",
       "1      136  ORANG   2020  \n",
       "2    2,782  ORANG   2020  \n",
       "3       75  ORANG   2020  \n",
       "4      178  ORANG   2020  "
      ]
     },
     "execution_count": 3,
     "metadata": {},
     "output_type": "execute_result"
    }
   ],
   "source": [
    "df.head()"
   ]
  },
  {
   "cell_type": "code",
   "execution_count": 4,
   "id": "dd6d1aac",
   "metadata": {},
   "outputs": [
    {
     "name": "stdout",
     "output_type": "stream",
     "text": [
      "<class 'pandas.core.frame.DataFrame'>\n",
      "RangeIndex: 5 entries, 0 to 4\n",
      "Data columns (total 18 columns):\n",
      " #   Column              Non-Null Count  Dtype \n",
      "---  ------              --------------  ----- \n",
      " 0   no                  5 non-null      int64 \n",
      " 1   kode_kabupaten      5 non-null      int64 \n",
      " 2   nama_kabupaten      5 non-null      object\n",
      " 3   tingkat_pendidikan  5 non-null      object\n",
      " 4   januari             5 non-null      object\n",
      " 5   februari            5 non-null      object\n",
      " 6   maret               5 non-null      object\n",
      " 7   april               5 non-null      int64 \n",
      " 8   mei                 5 non-null      int64 \n",
      " 9   juni                5 non-null      object\n",
      " 10  juli                5 non-null      object\n",
      " 11  agustus             5 non-null      object\n",
      " 12  september           5 non-null      object\n",
      " 13  oktober             5 non-null      object\n",
      " 14  november            5 non-null      object\n",
      " 15  desember            5 non-null      object\n",
      " 16  satuan              5 non-null      object\n",
      " 17  tahun               5 non-null      int64 \n",
      "dtypes: int64(5), object(13)\n",
      "memory usage: 852.0+ bytes\n"
     ]
    }
   ],
   "source": [
    "df.info()"
   ]
  },
  {
   "cell_type": "code",
   "execution_count": 5,
   "id": "43ca2497",
   "metadata": {},
   "outputs": [
    {
     "name": "stdout",
     "output_type": "stream",
     "text": [
      "no                     int64\n",
      "kode_kabupaten         int64\n",
      "nama_kabupaten        object\n",
      "tingkat_pendidikan    object\n",
      "januari               object\n",
      "februari              object\n",
      "maret                 object\n",
      "april                  int64\n",
      "mei                    int64\n",
      "juni                  object\n",
      "juli                  object\n",
      "agustus               object\n",
      "september             object\n",
      "oktober               object\n",
      "november              object\n",
      "desember              object\n",
      "satuan                object\n",
      "tahun                  int64\n",
      "dtype: object\n"
     ]
    }
   ],
   "source": [
    "print(df.dtypes)"
   ]
  },
  {
   "cell_type": "code",
   "execution_count": 6,
   "id": "b4887b64",
   "metadata": {},
   "outputs": [],
   "source": [
    "# Kolom-kolom yang perlu diubah tipe data\n",
    "columns_to_convert = ['januari', 'februari', 'maret', 'juni', 'juli', 'agustus', 'september', 'oktober', 'november', 'desember']\n",
    "\n",
    "for col in columns_to_convert:\n",
    "    df[col] = df[col].str.replace(',', '', regex=True).astype('int64')"
   ]
  },
  {
   "cell_type": "code",
   "execution_count": 7,
   "id": "a27d4b4e",
   "metadata": {
    "scrolled": true
   },
   "outputs": [
    {
     "name": "stdout",
     "output_type": "stream",
     "text": [
      "no                     int64\n",
      "kode_kabupaten         int64\n",
      "nama_kabupaten        object\n",
      "tingkat_pendidikan    object\n",
      "januari                int64\n",
      "februari               int64\n",
      "maret                  int64\n",
      "april                  int64\n",
      "mei                    int64\n",
      "juni                   int64\n",
      "juli                   int64\n",
      "agustus                int64\n",
      "september              int64\n",
      "oktober                int64\n",
      "november               int64\n",
      "desember               int64\n",
      "satuan                object\n",
      "tahun                  int64\n",
      "dtype: object\n"
     ]
    }
   ],
   "source": [
    "print(df.dtypes)"
   ]
  },
  {
   "cell_type": "code",
   "execution_count": 10,
   "id": "06f65041",
   "metadata": {},
   "outputs": [],
   "source": [
    "df['total_pencari_kerja'] = df['januari']+df['februari']+df['maret']+df['april']+df['mei']+df['juni']+df['juli']+df['agustus']+df['september']+df['oktober']+df['november']+df['desember']"
   ]
  },
  {
   "cell_type": "code",
   "execution_count": 11,
   "id": "9dc4e23a",
   "metadata": {},
   "outputs": [
    {
     "data": {
      "text/html": [
       "<div>\n",
       "<style scoped>\n",
       "    .dataframe tbody tr th:only-of-type {\n",
       "        vertical-align: middle;\n",
       "    }\n",
       "\n",
       "    .dataframe tbody tr th {\n",
       "        vertical-align: top;\n",
       "    }\n",
       "\n",
       "    .dataframe thead th {\n",
       "        text-align: right;\n",
       "    }\n",
       "</style>\n",
       "<table border=\"1\" class=\"dataframe\">\n",
       "  <thead>\n",
       "    <tr style=\"text-align: right;\">\n",
       "      <th></th>\n",
       "      <th>no</th>\n",
       "      <th>kode_kabupaten</th>\n",
       "      <th>nama_kabupaten</th>\n",
       "      <th>tingkat_pendidikan</th>\n",
       "      <th>januari</th>\n",
       "      <th>februari</th>\n",
       "      <th>maret</th>\n",
       "      <th>april</th>\n",
       "      <th>mei</th>\n",
       "      <th>juni</th>\n",
       "      <th>juli</th>\n",
       "      <th>agustus</th>\n",
       "      <th>september</th>\n",
       "      <th>oktober</th>\n",
       "      <th>november</th>\n",
       "      <th>desember</th>\n",
       "      <th>satuan</th>\n",
       "      <th>tahun</th>\n",
       "      <th>total_pencari_kerja</th>\n",
       "    </tr>\n",
       "  </thead>\n",
       "  <tbody>\n",
       "    <tr>\n",
       "      <th>0</th>\n",
       "      <td>1</td>\n",
       "      <td>3215</td>\n",
       "      <td>KARAWANG</td>\n",
       "      <td>TAMAT SD</td>\n",
       "      <td>160</td>\n",
       "      <td>173</td>\n",
       "      <td>141</td>\n",
       "      <td>0</td>\n",
       "      <td>5</td>\n",
       "      <td>0</td>\n",
       "      <td>32</td>\n",
       "      <td>14</td>\n",
       "      <td>15</td>\n",
       "      <td>28</td>\n",
       "      <td>34</td>\n",
       "      <td>36</td>\n",
       "      <td>ORANG</td>\n",
       "      <td>2020</td>\n",
       "      <td>638</td>\n",
       "    </tr>\n",
       "    <tr>\n",
       "      <th>1</th>\n",
       "      <td>2</td>\n",
       "      <td>3215</td>\n",
       "      <td>KARAWANG</td>\n",
       "      <td>SMP</td>\n",
       "      <td>232</td>\n",
       "      <td>251</td>\n",
       "      <td>189</td>\n",
       "      <td>0</td>\n",
       "      <td>15</td>\n",
       "      <td>98</td>\n",
       "      <td>95</td>\n",
       "      <td>65</td>\n",
       "      <td>169</td>\n",
       "      <td>106</td>\n",
       "      <td>104</td>\n",
       "      <td>136</td>\n",
       "      <td>ORANG</td>\n",
       "      <td>2020</td>\n",
       "      <td>1460</td>\n",
       "    </tr>\n",
       "    <tr>\n",
       "      <th>2</th>\n",
       "      <td>3</td>\n",
       "      <td>3215</td>\n",
       "      <td>KARAWANG</td>\n",
       "      <td>SMA</td>\n",
       "      <td>3231</td>\n",
       "      <td>1422</td>\n",
       "      <td>1889</td>\n",
       "      <td>0</td>\n",
       "      <td>320</td>\n",
       "      <td>3899</td>\n",
       "      <td>1905</td>\n",
       "      <td>2325</td>\n",
       "      <td>11552</td>\n",
       "      <td>4710</td>\n",
       "      <td>4016</td>\n",
       "      <td>2782</td>\n",
       "      <td>ORANG</td>\n",
       "      <td>2020</td>\n",
       "      <td>38051</td>\n",
       "    </tr>\n",
       "    <tr>\n",
       "      <th>3</th>\n",
       "      <td>4</td>\n",
       "      <td>3215</td>\n",
       "      <td>KARAWANG</td>\n",
       "      <td>DIPLOMA</td>\n",
       "      <td>55</td>\n",
       "      <td>2</td>\n",
       "      <td>0</td>\n",
       "      <td>0</td>\n",
       "      <td>0</td>\n",
       "      <td>0</td>\n",
       "      <td>0</td>\n",
       "      <td>0</td>\n",
       "      <td>212</td>\n",
       "      <td>121</td>\n",
       "      <td>122</td>\n",
       "      <td>75</td>\n",
       "      <td>ORANG</td>\n",
       "      <td>2020</td>\n",
       "      <td>587</td>\n",
       "    </tr>\n",
       "    <tr>\n",
       "      <th>4</th>\n",
       "      <td>5</td>\n",
       "      <td>3215</td>\n",
       "      <td>KARAWANG</td>\n",
       "      <td>SARJANA</td>\n",
       "      <td>22</td>\n",
       "      <td>1</td>\n",
       "      <td>0</td>\n",
       "      <td>0</td>\n",
       "      <td>3</td>\n",
       "      <td>0</td>\n",
       "      <td>0</td>\n",
       "      <td>0</td>\n",
       "      <td>545</td>\n",
       "      <td>363</td>\n",
       "      <td>277</td>\n",
       "      <td>178</td>\n",
       "      <td>ORANG</td>\n",
       "      <td>2020</td>\n",
       "      <td>1389</td>\n",
       "    </tr>\n",
       "  </tbody>\n",
       "</table>\n",
       "</div>"
      ],
      "text/plain": [
       "   no  kode_kabupaten nama_kabupaten tingkat_pendidikan  januari  februari  \\\n",
       "0   1            3215       KARAWANG           TAMAT SD      160       173   \n",
       "1   2            3215       KARAWANG                SMP      232       251   \n",
       "2   3            3215       KARAWANG                SMA     3231      1422   \n",
       "3   4            3215       KARAWANG            DIPLOMA       55         2   \n",
       "4   5            3215       KARAWANG            SARJANA       22         1   \n",
       "\n",
       "   maret  april  mei  juni  juli  agustus  september  oktober  november  \\\n",
       "0    141      0    5     0    32       14         15       28        34   \n",
       "1    189      0   15    98    95       65        169      106       104   \n",
       "2   1889      0  320  3899  1905     2325      11552     4710      4016   \n",
       "3      0      0    0     0     0        0        212      121       122   \n",
       "4      0      0    3     0     0        0        545      363       277   \n",
       "\n",
       "   desember satuan  tahun  total_pencari_kerja  \n",
       "0        36  ORANG   2020                  638  \n",
       "1       136  ORANG   2020                 1460  \n",
       "2      2782  ORANG   2020                38051  \n",
       "3        75  ORANG   2020                  587  \n",
       "4       178  ORANG   2020                 1389  "
      ]
     },
     "execution_count": 11,
     "metadata": {},
     "output_type": "execute_result"
    }
   ],
   "source": [
    "df.head()"
   ]
  },
  {
   "cell_type": "code",
   "execution_count": 12,
   "id": "6dd29123",
   "metadata": {},
   "outputs": [
    {
     "data": {
      "text/plain": [
       "42125"
      ]
     },
     "execution_count": 12,
     "metadata": {},
     "output_type": "execute_result"
    }
   ],
   "source": [
    "df['total_pencari_kerja'].sum()"
   ]
  },
  {
   "cell_type": "code",
   "execution_count": 13,
   "id": "8703090f",
   "metadata": {},
   "outputs": [
    {
     "data": {
      "text/plain": [
       "8425.0"
      ]
     },
     "execution_count": 13,
     "metadata": {},
     "output_type": "execute_result"
    }
   ],
   "source": [
    "df['total_pencari_kerja'].mean()"
   ]
  },
  {
   "cell_type": "code",
   "execution_count": 8,
   "id": "be027165",
   "metadata": {},
   "outputs": [],
   "source": [
    "# Menambahkan kolom baru\n",
    "df['total_pencari_kerja'] = df[['januari', 'februari', 'maret', 'april', 'mei', 'juni', 'juli', 'agustus', 'september', 'oktober', 'november', 'desember']].sum(axis=1)\n"
   ]
  },
  {
   "cell_type": "markdown",
   "id": "cfa3223d",
   "metadata": {},
   "source": [
    "**Pencari Kerja Berdasarkan Tingkat Pendidikan**"
   ]
  },
  {
   "cell_type": "code",
   "execution_count": 9,
   "id": "c4b95a03",
   "metadata": {},
   "outputs": [
    {
     "name": "stdout",
     "output_type": "stream",
     "text": [
      "tingkat_pendidikan\n",
      "DIPLOMA       587\n",
      "SARJANA      1389\n",
      "SMA         38051\n",
      "SMP          1460\n",
      "TAMAT SD      638\n",
      "Name: total_pencari_kerja, dtype: int64\n"
     ]
    }
   ],
   "source": [
    "total_pencari_kerja_per_pendidikan = df.groupby('tingkat_pendidikan')['total_pencari_kerja'].sum()\n",
    "print(total_pencari_kerja_per_pendidikan)"
   ]
  },
  {
   "cell_type": "markdown",
   "id": "d10c27dc",
   "metadata": {},
   "source": [
    "**Tingkat Pencari Kerja Priode Januari-Mei**"
   ]
  },
  {
   "cell_type": "code",
   "execution_count": 10,
   "id": "a0a8f120",
   "metadata": {},
   "outputs": [
    {
     "name": "stdout",
     "output_type": "stream",
     "text": [
      "  tingkat_pendidikan  januari  februari  maret  april  mei\n",
      "4            SARJANA       22         1      0      0    3\n",
      "3            DIPLOMA       55         2      0      0    0\n",
      "0           TAMAT SD      160       173    141      0    5\n",
      "1                SMP      232       251    189      0   15\n",
      "2                SMA     3231      1422   1889      0  320\n"
     ]
    }
   ],
   "source": [
    "sorted_df = df.sort_values(by=['januari', 'februari', 'maret', 'april', 'mei'])\n",
    "\n",
    "result_df = sorted_df[['tingkat_pendidikan', 'januari', 'februari', 'maret', 'april', 'mei']]\n",
    "print(result_df)"
   ]
  },
  {
   "cell_type": "markdown",
   "id": "b9c7e730",
   "metadata": {},
   "source": [
    "**Rata-Rata Pencari Kerja Selama 1 tahun**"
   ]
  },
  {
   "cell_type": "code",
   "execution_count": 11,
   "id": "1a6dfcaa",
   "metadata": {},
   "outputs": [],
   "source": [
    "# kolom baru\n",
    "df['rata_rata_1_tahun'] = df[['januari', 'februari', 'maret', 'april', 'mei', 'juni', 'juli', 'agustus', 'september', 'oktober', 'november', 'desember']].mean(axis=1) / 12"
   ]
  },
  {
   "cell_type": "code",
   "execution_count": 12,
   "id": "9f78c89e",
   "metadata": {},
   "outputs": [
    {
     "name": "stdout",
     "output_type": "stream",
     "text": [
      "                          rata_rata_1_tahun  total_pencari_kerja\n",
      "tahun tingkat_pendidikan                                        \n",
      "2020  DIPLOMA                      4.076389                  587\n",
      "      SARJANA                      9.645833                 1389\n",
      "      SMA                        264.243056                38051\n",
      "      SMP                         10.138889                 1460\n",
      "      TAMAT SD                     4.430556                  638\n"
     ]
    }
   ],
   "source": [
    "result_df = df.groupby(['tahun', 'tingkat_pendidikan'])[['rata_rata_1_tahun', 'total_pencari_kerja']].sum()\n",
    "\n",
    "print(result_df)\n"
   ]
  },
  {
   "cell_type": "markdown",
   "id": "3b609e81",
   "metadata": {},
   "source": [
    "**Persentase Pencari Kerja Berdasarkan Tingkat Pendidikan**"
   ]
  },
  {
   "cell_type": "code",
   "execution_count": 15,
   "id": "dddbaec9",
   "metadata": {},
   "outputs": [
    {
     "name": "stdout",
     "output_type": "stream",
     "text": [
      "tingkat_pendidikan\n",
      "DIPLOMA      1.393472\n",
      "SARJANA      3.297329\n",
      "SMA         90.328783\n",
      "SMP          3.465875\n",
      "TAMAT SD     1.514540\n",
      "Name: total_pencari_kerja, dtype: float64\n"
     ]
    }
   ],
   "source": [
    "# Menghitung persentase pencari kerja berdasarkan tingkat pendidikan\n",
    "persentase_pencari_kerja = (df.groupby('tingkat_pendidikan')['total_pencari_kerja'].sum() / df['total_pencari_kerja'].sum()) * 100\n",
    "\n",
    "# Menampilkan persentase pencari kerja\n",
    "print(persentase_pencari_kerja)"
   ]
  },
  {
   "cell_type": "code",
   "execution_count": 18,
   "id": "e14a9b59",
   "metadata": {},
   "outputs": [
    {
     "data": {
      "image/png": "[encoded data removed]",
      "text/plain": [
       "<Figure size 640x480 with 1 Axes>"
      ]
     },
     "metadata": {},
     "output_type": "display_data"
    }
   ],
   "source": [
    "# Menghitung persentase pencari kerja berdasarkan tingkat pendidikan\n",
    "persentase_pencari_kerja = (df.groupby('tingkat_pendidikan')['total_pencari_kerja'].sum() / df['total_pencari_kerja'].sum()) * 100\n",
    "\n",
    "\n",
    "plt.pie(persentase_pencari_kerja, labels=persentase_pencari_kerja.index, autopct='%1.1f%%', startangle=140)\n",
    "plt.title('Persentase Pencari Kerja berdasarkan Tingkat Pendidikan')\n",
    "plt.axis('equal')\n",
    "plt.show()"
   ]
  },
  {
   "cell_type": "code",
   "execution_count": null,
   "id": "59d096f8",
   "metadata": {},
   "outputs": [],
   "source": []
  }
 ],
 "metadata": {
  "kernelspec": {
   "display_name": "Python 3 (ipykernel)",
   "language": "python",
   "name": "python3"
  },
  "language_info": {
   "codemirror_mode": {
    "name": "ipython",
    "version": 3
   },
   "file_extension": ".py",
   "mimetype": "text/x-python",
   "name": "python",
   "nbconvert_exporter": "python",
   "pygments_lexer": "ipython3",
   "version": "3.11.4"
  }
 },
 "nbformat": 4,
 "nbformat_minor": 5
}
